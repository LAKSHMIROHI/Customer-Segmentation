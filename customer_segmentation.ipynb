{
  "nbformat": 4,
  "nbformat_minor": 0,
  "metadata": {
    "colab": {
      "provenance": [],
      "authorship_tag": "ABX9TyO0/mdx//9KBAoQpwARH3tP",
      "include_colab_link": true
    },
    "kernelspec": {
      "name": "python3",
      "display_name": "Python 3"
    },
    "language_info": {
      "name": "python"
    }
  },
  "cells": [
    {
      "cell_type": "markdown",
      "metadata": {
        "id": "view-in-github",
        "colab_type": "text"
      },
      "source": [
        "<a href=\"https://colab.research.google.com/github/LAKSHMIROHI/Customer-Segmentation/blob/main/customer_segmentation.ipynb\" target=\"_parent\"><img src=\"https://colab.research.google.com/assets/colab-badge.svg\" alt=\"Open In Colab\"/></a>"
      ]
    },
    {
      "cell_type": "code",
      "execution_count": 3,
      "metadata": {
        "id": "jMyW4dhczxOz"
      },
      "outputs": [],
      "source": [
        "import pandas as pd\n",
        "from sklearn.cluster import KMeans\n",
        "import matplotlib.pyplot as plt\n"
      ]
    },
    {
      "cell_type": "code",
      "source": [
        "customer_data=pd.read_csv('/content/ecom customer_data.csv')"
      ],
      "metadata": {
        "id": "g1VMNqgu0dsm"
      },
      "execution_count": 4,
      "outputs": []
    },
    {
      "cell_type": "code",
      "source": [
        "print(customer_data.head())"
      ],
      "metadata": {
        "colab": {
          "base_uri": "https://localhost:8080/"
        },
        "id": "isKTeRDN1As_",
        "outputId": "ab17365e-5099-46c7-f13f-af2d6ea1c2d2"
      },
      "execution_count": 5,
      "outputs": [
        {
          "output_type": "stream",
          "name": "stdout",
          "text": [
            "   Cust_ID Gender  Orders  Jordan  Gatorade  Samsung  Asus  Udis  \\\n",
            "0        1      M       7       0         0        0     0     0   \n",
            "1        2      F       0       0         1        0     0     0   \n",
            "2        3      M       7       0         1        0     0     0   \n",
            "3        4      F       0       0         0        0     0     0   \n",
            "4        5    NaN      10       0         0        0     0     0   \n",
            "\n",
            "   Mondelez International  Wrangler  ...  LG  Dior  Scabal  Tommy Hilfiger  \\\n",
            "0                       0         0  ...   0     0       0               0   \n",
            "1                       0         0  ...   0     1       0               0   \n",
            "2                       0         0  ...   0     0       0               0   \n",
            "3                       0         0  ...   0     0       0               0   \n",
            "4                       0         0  ...   0     0       2               0   \n",
            "\n",
            "   Hollister  Forever 21  Colavita  Microsoft  Jiffy mix  Kraft  \n",
            "0          0           0         0          0          0      0  \n",
            "1          0           0         0          0          0      0  \n",
            "2          0           0         0          1          0      0  \n",
            "3          0           0         0          0          0      0  \n",
            "4          0           0         0          0          1      1  \n",
            "\n",
            "[5 rows x 38 columns]\n"
          ]
        }
      ]
    },
    {
      "cell_type": "code",
      "source": [
        "print(customer_data.info())"
      ],
      "metadata": {
        "colab": {
          "base_uri": "https://localhost:8080/"
        },
        "id": "2AUPEQ1v1J1K",
        "outputId": "3ffdb649-7f2a-40ba-f5b9-794597581bc0"
      },
      "execution_count": 6,
      "outputs": [
        {
          "output_type": "stream",
          "name": "stdout",
          "text": [
            "<class 'pandas.core.frame.DataFrame'>\n",
            "RangeIndex: 30000 entries, 0 to 29999\n",
            "Data columns (total 38 columns):\n",
            " #   Column                  Non-Null Count  Dtype \n",
            "---  ------                  --------------  ----- \n",
            " 0   Cust_ID                 30000 non-null  int64 \n",
            " 1   Gender                  27276 non-null  object\n",
            " 2   Orders                  30000 non-null  int64 \n",
            " 3   Jordan                  30000 non-null  int64 \n",
            " 4   Gatorade                30000 non-null  int64 \n",
            " 5   Samsung                 30000 non-null  int64 \n",
            " 6   Asus                    30000 non-null  int64 \n",
            " 7   Udis                    30000 non-null  int64 \n",
            " 8   Mondelez International  30000 non-null  int64 \n",
            " 9   Wrangler                30000 non-null  int64 \n",
            " 10  Vans                    30000 non-null  int64 \n",
            " 11  Fila                    30000 non-null  int64 \n",
            " 12  Brooks                  30000 non-null  int64 \n",
            " 13  H&M                     30000 non-null  int64 \n",
            " 14  Dairy Queen             30000 non-null  int64 \n",
            " 15  Fendi                   30000 non-null  int64 \n",
            " 16  Hewlett Packard         30000 non-null  int64 \n",
            " 17  Pladis                  30000 non-null  int64 \n",
            " 18  Asics                   30000 non-null  int64 \n",
            " 19  Siemens                 30000 non-null  int64 \n",
            " 20  J.M. Smucker            30000 non-null  int64 \n",
            " 21  Pop Chips               30000 non-null  int64 \n",
            " 22  Juniper                 30000 non-null  int64 \n",
            " 23  Huawei                  30000 non-null  int64 \n",
            " 24  Compaq                  30000 non-null  int64 \n",
            " 25  IBM                     30000 non-null  int64 \n",
            " 26  Burberry                30000 non-null  int64 \n",
            " 27  Mi                      30000 non-null  int64 \n",
            " 28  LG                      30000 non-null  int64 \n",
            " 29  Dior                    30000 non-null  int64 \n",
            " 30  Scabal                  30000 non-null  int64 \n",
            " 31  Tommy Hilfiger          30000 non-null  int64 \n",
            " 32  Hollister               30000 non-null  int64 \n",
            " 33  Forever 21              30000 non-null  int64 \n",
            " 34  Colavita                30000 non-null  int64 \n",
            " 35  Microsoft               30000 non-null  int64 \n",
            " 36  Jiffy mix               30000 non-null  int64 \n",
            " 37  Kraft                   30000 non-null  int64 \n",
            "dtypes: int64(37), object(1)\n",
            "memory usage: 8.7+ MB\n",
            "None\n"
          ]
        }
      ]
    },
    {
      "cell_type": "code",
      "source": [
        "print(customer_data.columns)"
      ],
      "metadata": {
        "colab": {
          "base_uri": "https://localhost:8080/"
        },
        "id": "Q4VtJEka11p9",
        "outputId": "5a710d29-b9e3-40a4-da02-0b3c9ad0f7e0"
      },
      "execution_count": 13,
      "outputs": [
        {
          "output_type": "stream",
          "name": "stdout",
          "text": [
            "Index(['Cust_ID', 'Gender', 'Orders', 'Jordan', 'Gatorade', 'Samsung', 'Asus',\n",
            "       'Udis', 'Mondelez International', 'Wrangler', 'Vans', 'Fila', 'Brooks',\n",
            "       'H&M', 'Dairy Queen', 'Fendi', 'Hewlett Packard', 'Pladis', 'Asics',\n",
            "       'Siemens', 'J.M. Smucker', 'Pop Chips', 'Juniper', 'Huawei', 'Compaq',\n",
            "       'IBM', 'Burberry', 'Mi', 'LG', 'Dior', 'Scabal', 'Tommy Hilfiger',\n",
            "       'Hollister', 'Forever 21', 'Colavita', 'Microsoft', 'Jiffy mix',\n",
            "       'Kraft'],\n",
            "      dtype='object')\n"
          ]
        }
      ]
    },
    {
      "cell_type": "code",
      "source": [
        "customer_data = customer_data.rename(columns={'wrong_name': 'wrangler'})"
      ],
      "metadata": {
        "id": "uR-i7TqN3AVV"
      },
      "execution_count": 21,
      "outputs": []
    },
    {
      "cell_type": "code",
      "source": [
        "selected_features = ['Orders', 'Jordan', 'Gatorade', 'Samsung', 'Asus', 'Udis',\n",
        "                     'Mondelez International', 'Vans', 'Fila', 'Brooks',\n",
        "                     'H&M', 'Dairy Queen', 'Fendi', 'Hewlett Packard', 'Pladis',\n",
        "                     'Asics', 'Siemens', 'J.M. Smucker', 'Pop Chips', 'Juniper',\n",
        "                     'Huawei', 'Compaq', 'IBM', 'Burberry', 'Mi', 'LG', 'Dior',\n",
        "                     'Scabal', 'Tommy Hilfiger', 'Hollister', 'Forever 21',\n",
        "                     'Colavita', 'Microsoft', 'Jiffy mix', 'Kraft']"
      ],
      "metadata": {
        "id": "qOcefu2a2nLj"
      },
      "execution_count": 24,
      "outputs": []
    },
    {
      "cell_type": "code",
      "source": [
        "kmeans = KMeans(n_clusters=k, random_state=42, algorithm='auto')"
      ],
      "metadata": {
        "id": "_znycut3z66q"
      },
      "execution_count": 34,
      "outputs": []
    },
    {
      "cell_type": "code",
      "source": [
        "for cluster in customer_data['cluster'].unique():\n",
        "  cluster_data = customer_data[customer_data['cluster'] == cluster]"
      ],
      "metadata": {
        "id": "XR15fhJm3mdU"
      },
      "execution_count": 35,
      "outputs": []
    },
    {
      "cell_type": "code",
      "source": [
        "plt.scatter(cluster_data['Orders'],\n",
        "            cluster_data['Jordan'],label=f'cluster {cluster}')\n",
        "plt.xlabel('Orders')\n",
        "plt.ylabel('Jordan')\n",
        "plt.legend()\n",
        "plt.title('customer segmentation clusters')\n",
        "plt.show()"
      ],
      "metadata": {
        "colab": {
          "base_uri": "https://localhost:8080/",
          "height": 472
        },
        "id": "01_GtDNL4CyM",
        "outputId": "970fb061-9fbe-4fb5-dd61-bb25a07e983e"
      },
      "execution_count": 36,
      "outputs": [
        {
          "output_type": "display_data",
          "data": {
            "text/plain": [
              "<Figure size 640x480 with 1 Axes>"
            ],
            "image/png": "[encoded data removed]"
          },
          "metadata": {}
        }
      ]
    },
    {
      "cell_type": "code",
      "source": [
        "for cluster in customer_data['cluster'].unique():\n",
        "    print(f'\\ncluster {cluster}:')"
      ],
      "metadata": {
        "colab": {
          "base_uri": "https://localhost:8080/"
        },
        "id": "ZoSQSQ9p44GU",
        "outputId": "6e8649d4-cb3b-448f-e939-628b60208f89"
      },
      "execution_count": 37,
      "outputs": [
        {
          "output_type": "stream",
          "name": "stdout",
          "text": [
            "\n",
            "cluster 2:\n",
            "\n",
            "cluster 0:\n",
            "\n",
            "cluster 3:\n",
            "\n",
            "cluster 1:\n"
          ]
        }
      ]
    },
    {
      "cell_type": "code",
      "source": [
        "print(customer_data[customer_data['cluster'] == cluster]\n",
        "      [selected_features].describe())"
      ],
      "metadata": {
        "colab": {
          "base_uri": "https://localhost:8080/"
        },
        "id": "3j59CKwq5SbE",
        "outputId": "173363bd-6e26-4c4d-ddf9-8bd8dcaeac8c"
      },
      "execution_count": 38,
      "outputs": [
        {
          "output_type": "stream",
          "name": "stdout",
          "text": [
            "            Orders       Jordan     Gatorade      Samsung         Asus  \\\n",
            "count  8080.000000  8080.000000  8080.000000  8080.000000  8080.000000   \n",
            "mean      4.467079     0.271782     0.264356     0.237005     0.163985   \n",
            "std       1.120052     0.854943     0.729494     0.948555     0.735778   \n",
            "min       3.000000     0.000000     0.000000     0.000000     0.000000   \n",
            "25%       3.000000     0.000000     0.000000     0.000000     0.000000   \n",
            "50%       4.000000     0.000000     0.000000     0.000000     0.000000   \n",
            "75%       5.000000     0.000000     0.000000     0.000000     0.000000   \n",
            "max       6.000000    24.000000    15.000000    27.000000    11.000000   \n",
            "\n",
            "              Udis  Mondelez International         Vans         Fila  \\\n",
            "count  8080.000000             8080.000000  8080.000000  8080.000000   \n",
            "mean      0.144554                0.142946     0.105693     0.087005   \n",
            "std       0.621754                0.602209     0.535847     0.487476   \n",
            "min       0.000000                0.000000     0.000000     0.000000   \n",
            "25%       0.000000                0.000000     0.000000     0.000000   \n",
            "50%       0.000000                0.000000     0.000000     0.000000   \n",
            "75%       0.000000                0.000000     0.000000     0.000000   \n",
            "max      11.000000               31.000000    13.000000    11.000000   \n",
            "\n",
            "            Brooks  ...           LG         Dior       Scabal  \\\n",
            "count  8080.000000  ...  8080.000000  8080.000000  8080.000000   \n",
            "mean      0.121906  ...     0.073639     0.252475     0.363243   \n",
            "std       0.403433  ...     0.361398     0.677924     0.724518   \n",
            "min       0.000000  ...     0.000000     0.000000     0.000000   \n",
            "25%       0.000000  ...     0.000000     0.000000     0.000000   \n",
            "50%       0.000000  ...     0.000000     0.000000     0.000000   \n",
            "75%       0.000000  ...     0.000000     0.000000     1.000000   \n",
            "max       6.000000  ...     6.000000    12.000000     7.000000   \n",
            "\n",
            "       Tommy Hilfiger    Hollister   Forever 21     Colavita    Microsoft  \\\n",
            "count     8080.000000  8080.000000  8080.000000  8080.000000  8080.000000   \n",
            "mean         0.133663     0.077970     0.055446     0.162748     0.109530   \n",
            "std          0.445528     0.394428     0.292066     0.534372     0.422487   \n",
            "min          0.000000     0.000000     0.000000     0.000000     0.000000   \n",
            "25%          0.000000     0.000000     0.000000     0.000000     0.000000   \n",
            "50%          0.000000     0.000000     0.000000     0.000000     0.000000   \n",
            "75%          0.000000     0.000000     0.000000     0.000000     0.000000   \n",
            "max          6.000000     7.000000     7.000000    11.000000     9.000000   \n",
            "\n",
            "         Jiffy mix        Kraft  \n",
            "count  8080.000000  8080.000000  \n",
            "mean      0.075990     0.054827  \n",
            "std       0.367537     0.329044  \n",
            "min       0.000000     0.000000  \n",
            "25%       0.000000     0.000000  \n",
            "50%       0.000000     0.000000  \n",
            "75%       0.000000     0.000000  \n",
            "max       8.000000    10.000000  \n",
            "\n",
            "[8 rows x 35 columns]\n"
          ]
        }
      ]
    }
  ]
}